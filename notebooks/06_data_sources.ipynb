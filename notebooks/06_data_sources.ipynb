{
 "cells": [
  {
   "cell_type": "markdown",
   "metadata": {},
   "source": [
    "<table style=\"float:left; border:none\">\n",
    "   <tr style=\"border:none\">\n",
    "       <td style=\"border:none\">\n",
    "           <a href=\"https://bokeh.org/\" target=\"_blank\">\n",
    "           <img\n",
    "               src=\"assets/bokeh-transparent.png\"\n",
    "               style=\"width:50px\"\n",
    "           >\n",
    "           </a>\n",
    "       </td>\n",
    "       <td style=\"border:none\">\n",
    "           <h1>Bokeh Tutorial</h1>\n",
    "       </td>\n",
    "   </tr>\n",
    "</table>\n",
    "\n",
    "<div style=\"float:right;\"><a href=\"TOC.ipynb\" target=\"_blank\">Table of contents</a><br><h2>06 Data sources</h2></div>"
   ]
  },
  {
   "cell_type": "code",
   "execution_count": 1,
   "metadata": {},
   "outputs": [],
   "source": [
    "# load tutorial data\n",
    "from tutorial_data import data"
   ]
  },
  {
   "cell_type": "code",
   "execution_count": 2,
   "metadata": {},
   "outputs": [
    {
     "data": {
      "text/html": [
       "<style>\n",
       "        .bk-notebook-logo {\n",
       "            display: block;\n",
       "            width: 20px;\n",
       "            height: 20px;\n",
       "            background-image: url(data:image/png;base64,iVBORw0KGgoAAAANSUhEUgAAABQAAAAUCAYAAACNiR0NAAAABHNCSVQICAgIfAhkiAAAAAlwSFlzAAALEgAACxIB0t1+/AAAABx0RVh0U29mdHdhcmUAQWRvYmUgRmlyZXdvcmtzIENTNui8sowAAAOkSURBVDiNjZRtaJVlGMd/1/08zzln5zjP1LWcU9N0NkN8m2CYjpgQYQXqSs0I84OLIC0hkEKoPtiH3gmKoiJDU7QpLgoLjLIQCpEsNJ1vqUOdO7ppbuec5+V+rj4ctwzd8IIbbi6u+8f1539dt3A78eXC7QizUF7gyV1fD1Yqg4JWz84yffhm0qkFqBogB9rM8tZdtwVsPUhWhGcFJngGeWrPzHm5oaMmkfEg1usvLFyc8jLRqDOMru7AyC8saQr7GG7f5fvDeH7Ej8CM66nIF+8yngt6HWaKh7k49Soy9nXurCi1o3qUbS3zWfrYeQDTB/Qj6kX6Ybhw4B+bOYoLKCC9H3Nu/leUTZ1JdRWkkn2ldcCamzrcf47KKXdAJllSlxAOkRgyHsGC/zRday5Qld9DyoM4/q/rUoy/CXh3jzOu3bHUVZeU+DEn8FInkPBFlu3+nW3Nw0mk6vCDiWg8CeJaxEwuHS3+z5RgY+YBR6V1Z1nxSOfoaPa4LASWxxdNp+VWTk7+4vzaou8v8PN+xo+KY2xsw6une2frhw05CTYOmQvsEhjhWjn0bmXPjpE1+kplmmkP3suftwTubK9Vq22qKmrBhpY4jvd5afdRA3wGjFAgcnTK2s4hY0/GPNIb0nErGMCRxWOOX64Z8RAC4oCXdklmEvcL8o0BfkNK4lUg9HTl+oPlQxdNo3Mg4Nv175e/1LDGzZen30MEjRUtmXSfiTVu1kK8W4txyV6BMKlbgk3lMwYCiusNy9fVfvvwMxv8Ynl6vxoByANLTWplvuj/nF9m2+PDtt1eiHPBr1oIfhCChQMBw6Aw0UulqTKZdfVvfG7VcfIqLG9bcldL/+pdWTLxLUy8Qq38heUIjh4XlzZxzQm19lLFlr8vdQ97rjZVOLf8nclzckbcD4wxXMidpX30sFd37Fv/GtwwhzhxGVAprjbg0gCAEeIgwCZyTV2Z1REEW8O4py0wsjeloKoMr6iCY6dP92H6Vw/oTyICIthibxjm/DfN9lVz8IqtqKYLUXfoKVMVQVVJOElGjrnnUt9T9wbgp8AyYKaGlqingHZU/uG2NTZSVqwHQTWkx9hxjkpWDaCg6Ckj5qebgBVbT3V3NNXMSiWSDdGV3hrtzla7J+duwPOToIg42ChPQOQjspnSlp1V+Gjdged7+8UN5CRAV7a5EdFNwCjEaBR27b3W890TE7g24NAP/mMDXRWrGoFPQI9ls/MWO2dWFAar/xcOIImbbpA3zgAAAABJRU5ErkJggg==);\n",
       "        }\n",
       "    </style>\n",
       "    <div>\n",
       "        <a href=\"https://bokeh.org\" target=\"_blank\" class=\"bk-notebook-logo\"></a>\n",
       "        <span id=\"f9470cd8-4b6d-441f-a340-971b2f76a65b\">Loading BokehJS ...</span>\n",
       "    </div>\n"
      ]
     },
     "metadata": {},
     "output_type": "display_data"
    },
    {
     "data": {
      "application/javascript": [
       "(function(root) {\n",
       "  function now() {\n",
       "    return new Date();\n",
       "  }\n",
       "\n",
       "  const force = true;\n",
       "\n",
       "  if (typeof root._bokeh_onload_callbacks === \"undefined\" || force === true) {\n",
       "    root._bokeh_onload_callbacks = [];\n",
       "    root._bokeh_is_loading = undefined;\n",
       "  }\n",
       "\n",
       "const JS_MIME_TYPE = 'application/javascript';\n",
       "  const HTML_MIME_TYPE = 'text/html';\n",
       "  const EXEC_MIME_TYPE = 'application/vnd.bokehjs_exec.v0+json';\n",
       "  const CLASS_NAME = 'output_bokeh rendered_html';\n",
       "\n",
       "  /**\n",
       "   * Render data to the DOM node\n",
       "   */\n",
       "  function render(props, node) {\n",
       "    const script = document.createElement(\"script\");\n",
       "    node.appendChild(script);\n",
       "  }\n",
       "\n",
       "  /**\n",
       "   * Handle when an output is cleared or removed\n",
       "   */\n",
       "  function handleClearOutput(event, handle) {\n",
       "    const cell = handle.cell;\n",
       "\n",
       "    const id = cell.output_area._bokeh_element_id;\n",
       "    const server_id = cell.output_area._bokeh_server_id;\n",
       "    // Clean up Bokeh references\n",
       "    if (id != null && id in Bokeh.index) {\n",
       "      Bokeh.index[id].model.document.clear();\n",
       "      delete Bokeh.index[id];\n",
       "    }\n",
       "\n",
       "    if (server_id !== undefined) {\n",
       "      // Clean up Bokeh references\n",
       "      const cmd_clean = \"from bokeh.io.state import curstate; print(curstate().uuid_to_server['\" + server_id + \"'].get_sessions()[0].document.roots[0]._id)\";\n",
       "      cell.notebook.kernel.execute(cmd_clean, {\n",
       "        iopub: {\n",
       "          output: function(msg) {\n",
       "            const id = msg.content.text.trim();\n",
       "            if (id in Bokeh.index) {\n",
       "              Bokeh.index[id].model.document.clear();\n",
       "              delete Bokeh.index[id];\n",
       "            }\n",
       "          }\n",
       "        }\n",
       "      });\n",
       "      // Destroy server and session\n",
       "      const cmd_destroy = \"import bokeh.io.notebook as ion; ion.destroy_server('\" + server_id + \"')\";\n",
       "      cell.notebook.kernel.execute(cmd_destroy);\n",
       "    }\n",
       "  }\n",
       "\n",
       "  /**\n",
       "   * Handle when a new output is added\n",
       "   */\n",
       "  function handleAddOutput(event, handle) {\n",
       "    const output_area = handle.output_area;\n",
       "    const output = handle.output;\n",
       "\n",
       "    // limit handleAddOutput to display_data with EXEC_MIME_TYPE content only\n",
       "    if ((output.output_type != \"display_data\") || (!Object.prototype.hasOwnProperty.call(output.data, EXEC_MIME_TYPE))) {\n",
       "      return\n",
       "    }\n",
       "\n",
       "    const toinsert = output_area.element.find(\".\" + CLASS_NAME.split(' ')[0]);\n",
       "\n",
       "    if (output.metadata[EXEC_MIME_TYPE][\"id\"] !== undefined) {\n",
       "      toinsert[toinsert.length - 1].firstChild.textContent = output.data[JS_MIME_TYPE];\n",
       "      // store reference to embed id on output_area\n",
       "      output_area._bokeh_element_id = output.metadata[EXEC_MIME_TYPE][\"id\"];\n",
       "    }\n",
       "    if (output.metadata[EXEC_MIME_TYPE][\"server_id\"] !== undefined) {\n",
       "      const bk_div = document.createElement(\"div\");\n",
       "      bk_div.innerHTML = output.data[HTML_MIME_TYPE];\n",
       "      const script_attrs = bk_div.children[0].attributes;\n",
       "      for (let i = 0; i < script_attrs.length; i++) {\n",
       "        toinsert[toinsert.length - 1].firstChild.setAttribute(script_attrs[i].name, script_attrs[i].value);\n",
       "        toinsert[toinsert.length - 1].firstChild.textContent = bk_div.children[0].textContent\n",
       "      }\n",
       "      // store reference to server id on output_area\n",
       "      output_area._bokeh_server_id = output.metadata[EXEC_MIME_TYPE][\"server_id\"];\n",
       "    }\n",
       "  }\n",
       "\n",
       "  function register_renderer(events, OutputArea) {\n",
       "\n",
       "    function append_mime(data, metadata, element) {\n",
       "      // create a DOM node to render to\n",
       "      const toinsert = this.create_output_subarea(\n",
       "        metadata,\n",
       "        CLASS_NAME,\n",
       "        EXEC_MIME_TYPE\n",
       "      );\n",
       "      this.keyboard_manager.register_events(toinsert);\n",
       "      // Render to node\n",
       "      const props = {data: data, metadata: metadata[EXEC_MIME_TYPE]};\n",
       "      render(props, toinsert[toinsert.length - 1]);\n",
       "      element.append(toinsert);\n",
       "      return toinsert\n",
       "    }\n",
       "\n",
       "    /* Handle when an output is cleared or removed */\n",
       "    events.on('clear_output.CodeCell', handleClearOutput);\n",
       "    events.on('delete.Cell', handleClearOutput);\n",
       "\n",
       "    /* Handle when a new output is added */\n",
       "    events.on('output_added.OutputArea', handleAddOutput);\n",
       "\n",
       "    /**\n",
       "     * Register the mime type and append_mime function with output_area\n",
       "     */\n",
       "    OutputArea.prototype.register_mime_type(EXEC_MIME_TYPE, append_mime, {\n",
       "      /* Is output safe? */\n",
       "      safe: true,\n",
       "      /* Index of renderer in `output_area.display_order` */\n",
       "      index: 0\n",
       "    });\n",
       "  }\n",
       "\n",
       "  // register the mime type if in Jupyter Notebook environment and previously unregistered\n",
       "  if (root.Jupyter !== undefined) {\n",
       "    const events = require('base/js/events');\n",
       "    const OutputArea = require('notebook/js/outputarea').OutputArea;\n",
       "\n",
       "    if (OutputArea.prototype.mime_types().indexOf(EXEC_MIME_TYPE) == -1) {\n",
       "      register_renderer(events, OutputArea);\n",
       "    }\n",
       "  }\n",
       "  if (typeof (root._bokeh_timeout) === \"undefined\" || force === true) {\n",
       "    root._bokeh_timeout = Date.now() + 5000;\n",
       "    root._bokeh_failed_load = false;\n",
       "  }\n",
       "\n",
       "  const NB_LOAD_WARNING = {'data': {'text/html':\n",
       "     \"<div style='background-color: #fdd'>\\n\"+\n",
       "     \"<p>\\n\"+\n",
       "     \"BokehJS does not appear to have successfully loaded. If loading BokehJS from CDN, this \\n\"+\n",
       "     \"may be due to a slow or bad network connection. Possible fixes:\\n\"+\n",
       "     \"</p>\\n\"+\n",
       "     \"<ul>\\n\"+\n",
       "     \"<li>re-rerun `output_notebook()` to attempt to load from CDN again, or</li>\\n\"+\n",
       "     \"<li>use INLINE resources instead, as so:</li>\\n\"+\n",
       "     \"</ul>\\n\"+\n",
       "     \"<code>\\n\"+\n",
       "     \"from bokeh.resources import INLINE\\n\"+\n",
       "     \"output_notebook(resources=INLINE)\\n\"+\n",
       "     \"</code>\\n\"+\n",
       "     \"</div>\"}};\n",
       "\n",
       "  function display_loaded() {\n",
       "    const el = document.getElementById(\"f9470cd8-4b6d-441f-a340-971b2f76a65b\");\n",
       "    if (el != null) {\n",
       "      el.textContent = \"BokehJS is loading...\";\n",
       "    }\n",
       "    if (root.Bokeh !== undefined) {\n",
       "      if (el != null) {\n",
       "        el.textContent = \"BokehJS \" + root.Bokeh.version + \" successfully loaded.\";\n",
       "      }\n",
       "    } else if (Date.now() < root._bokeh_timeout) {\n",
       "      setTimeout(display_loaded, 100)\n",
       "    }\n",
       "  }\n",
       "\n",
       "  function run_callbacks() {\n",
       "    try {\n",
       "      root._bokeh_onload_callbacks.forEach(function(callback) {\n",
       "        if (callback != null)\n",
       "          callback();\n",
       "      });\n",
       "    } finally {\n",
       "      delete root._bokeh_onload_callbacks\n",
       "    }\n",
       "    console.debug(\"Bokeh: all callbacks have finished\");\n",
       "  }\n",
       "\n",
       "  function load_libs(css_urls, js_urls, callback) {\n",
       "    if (css_urls == null) css_urls = [];\n",
       "    if (js_urls == null) js_urls = [];\n",
       "\n",
       "    root._bokeh_onload_callbacks.push(callback);\n",
       "    if (root._bokeh_is_loading > 0) {\n",
       "      console.debug(\"Bokeh: BokehJS is being loaded, scheduling callback at\", now());\n",
       "      return null;\n",
       "    }\n",
       "    if (js_urls == null || js_urls.length === 0) {\n",
       "      run_callbacks();\n",
       "      return null;\n",
       "    }\n",
       "    console.debug(\"Bokeh: BokehJS not loaded, scheduling load and callback at\", now());\n",
       "    root._bokeh_is_loading = css_urls.length + js_urls.length;\n",
       "\n",
       "    function on_load() {\n",
       "      root._bokeh_is_loading--;\n",
       "      if (root._bokeh_is_loading === 0) {\n",
       "        console.debug(\"Bokeh: all BokehJS libraries/stylesheets loaded\");\n",
       "        run_callbacks()\n",
       "      }\n",
       "    }\n",
       "\n",
       "    function on_error(url) {\n",
       "      console.error(\"failed to load \" + url);\n",
       "    }\n",
       "\n",
       "    for (let i = 0; i < css_urls.length; i++) {\n",
       "      const url = css_urls[i];\n",
       "      const element = document.createElement(\"link\");\n",
       "      element.onload = on_load;\n",
       "      element.onerror = on_error.bind(null, url);\n",
       "      element.rel = \"stylesheet\";\n",
       "      element.type = \"text/css\";\n",
       "      element.href = url;\n",
       "      console.debug(\"Bokeh: injecting link tag for BokehJS stylesheet: \", url);\n",
       "      document.body.appendChild(element);\n",
       "    }\n",
       "\n",
       "    for (let i = 0; i < js_urls.length; i++) {\n",
       "      const url = js_urls[i];\n",
       "      const element = document.createElement('script');\n",
       "      element.onload = on_load;\n",
       "      element.onerror = on_error.bind(null, url);\n",
       "      element.async = false;\n",
       "      element.src = url;\n",
       "      console.debug(\"Bokeh: injecting script tag for BokehJS library: \", url);\n",
       "      document.head.appendChild(element);\n",
       "    }\n",
       "  };\n",
       "\n",
       "  function inject_raw_css(css) {\n",
       "    const element = document.createElement(\"style\");\n",
       "    element.appendChild(document.createTextNode(css));\n",
       "    document.body.appendChild(element);\n",
       "  }\n",
       "\n",
       "  const js_urls = [\"https://cdn.bokeh.org/bokeh/release/bokeh-3.2.0.min.js\", \"https://cdn.bokeh.org/bokeh/release/bokeh-gl-3.2.0.min.js\", \"https://cdn.bokeh.org/bokeh/release/bokeh-widgets-3.2.0.min.js\", \"https://cdn.bokeh.org/bokeh/release/bokeh-tables-3.2.0.min.js\", \"https://cdn.bokeh.org/bokeh/release/bokeh-mathjax-3.2.0.min.js\"];\n",
       "  const css_urls = [];\n",
       "\n",
       "  const inline_js = [    function(Bokeh) {\n",
       "      Bokeh.set_log_level(\"info\");\n",
       "    },\n",
       "function(Bokeh) {\n",
       "    }\n",
       "  ];\n",
       "\n",
       "  function run_inline_js() {\n",
       "    if (root.Bokeh !== undefined || force === true) {\n",
       "          for (let i = 0; i < inline_js.length; i++) {\n",
       "      inline_js[i].call(root, root.Bokeh);\n",
       "    }\n",
       "if (force === true) {\n",
       "        display_loaded();\n",
       "      }} else if (Date.now() < root._bokeh_timeout) {\n",
       "      setTimeout(run_inline_js, 100);\n",
       "    } else if (!root._bokeh_failed_load) {\n",
       "      console.log(\"Bokeh: BokehJS failed to load within specified timeout.\");\n",
       "      root._bokeh_failed_load = true;\n",
       "    } else if (force !== true) {\n",
       "      const cell = $(document.getElementById(\"f9470cd8-4b6d-441f-a340-971b2f76a65b\")).parents('.cell').data().cell;\n",
       "      cell.output_area.append_execute_result(NB_LOAD_WARNING)\n",
       "    }\n",
       "  }\n",
       "\n",
       "  if (root._bokeh_is_loading === 0) {\n",
       "    console.debug(\"Bokeh: BokehJS loaded, going straight to plotting\");\n",
       "    run_inline_js();\n",
       "  } else {\n",
       "    load_libs(css_urls, js_urls, function() {\n",
       "      console.debug(\"Bokeh: BokehJS plotting callback run at\", now());\n",
       "      run_inline_js();\n",
       "    });\n",
       "  }\n",
       "}(window));"
      ],
      "application/vnd.bokehjs_load.v0+json": "(function(root) {\n  function now() {\n    return new Date();\n  }\n\n  const force = true;\n\n  if (typeof root._bokeh_onload_callbacks === \"undefined\" || force === true) {\n    root._bokeh_onload_callbacks = [];\n    root._bokeh_is_loading = undefined;\n  }\n\n\n  if (typeof (root._bokeh_timeout) === \"undefined\" || force === true) {\n    root._bokeh_timeout = Date.now() + 5000;\n    root._bokeh_failed_load = false;\n  }\n\n  const NB_LOAD_WARNING = {'data': {'text/html':\n     \"<div style='background-color: #fdd'>\\n\"+\n     \"<p>\\n\"+\n     \"BokehJS does not appear to have successfully loaded. If loading BokehJS from CDN, this \\n\"+\n     \"may be due to a slow or bad network connection. Possible fixes:\\n\"+\n     \"</p>\\n\"+\n     \"<ul>\\n\"+\n     \"<li>re-rerun `output_notebook()` to attempt to load from CDN again, or</li>\\n\"+\n     \"<li>use INLINE resources instead, as so:</li>\\n\"+\n     \"</ul>\\n\"+\n     \"<code>\\n\"+\n     \"from bokeh.resources import INLINE\\n\"+\n     \"output_notebook(resources=INLINE)\\n\"+\n     \"</code>\\n\"+\n     \"</div>\"}};\n\n  function display_loaded() {\n    const el = document.getElementById(\"f9470cd8-4b6d-441f-a340-971b2f76a65b\");\n    if (el != null) {\n      el.textContent = \"BokehJS is loading...\";\n    }\n    if (root.Bokeh !== undefined) {\n      if (el != null) {\n        el.textContent = \"BokehJS \" + root.Bokeh.version + \" successfully loaded.\";\n      }\n    } else if (Date.now() < root._bokeh_timeout) {\n      setTimeout(display_loaded, 100)\n    }\n  }\n\n  function run_callbacks() {\n    try {\n      root._bokeh_onload_callbacks.forEach(function(callback) {\n        if (callback != null)\n          callback();\n      });\n    } finally {\n      delete root._bokeh_onload_callbacks\n    }\n    console.debug(\"Bokeh: all callbacks have finished\");\n  }\n\n  function load_libs(css_urls, js_urls, callback) {\n    if (css_urls == null) css_urls = [];\n    if (js_urls == null) js_urls = [];\n\n    root._bokeh_onload_callbacks.push(callback);\n    if (root._bokeh_is_loading > 0) {\n      console.debug(\"Bokeh: BokehJS is being loaded, scheduling callback at\", now());\n      return null;\n    }\n    if (js_urls == null || js_urls.length === 0) {\n      run_callbacks();\n      return null;\n    }\n    console.debug(\"Bokeh: BokehJS not loaded, scheduling load and callback at\", now());\n    root._bokeh_is_loading = css_urls.length + js_urls.length;\n\n    function on_load() {\n      root._bokeh_is_loading--;\n      if (root._bokeh_is_loading === 0) {\n        console.debug(\"Bokeh: all BokehJS libraries/stylesheets loaded\");\n        run_callbacks()\n      }\n    }\n\n    function on_error(url) {\n      console.error(\"failed to load \" + url);\n    }\n\n    for (let i = 0; i < css_urls.length; i++) {\n      const url = css_urls[i];\n      const element = document.createElement(\"link\");\n      element.onload = on_load;\n      element.onerror = on_error.bind(null, url);\n      element.rel = \"stylesheet\";\n      element.type = \"text/css\";\n      element.href = url;\n      console.debug(\"Bokeh: injecting link tag for BokehJS stylesheet: \", url);\n      document.body.appendChild(element);\n    }\n\n    for (let i = 0; i < js_urls.length; i++) {\n      const url = js_urls[i];\n      const element = document.createElement('script');\n      element.onload = on_load;\n      element.onerror = on_error.bind(null, url);\n      element.async = false;\n      element.src = url;\n      console.debug(\"Bokeh: injecting script tag for BokehJS library: \", url);\n      document.head.appendChild(element);\n    }\n  };\n\n  function inject_raw_css(css) {\n    const element = document.createElement(\"style\");\n    element.appendChild(document.createTextNode(css));\n    document.body.appendChild(element);\n  }\n\n  const js_urls = [\"https://cdn.bokeh.org/bokeh/release/bokeh-3.2.0.min.js\", \"https://cdn.bokeh.org/bokeh/release/bokeh-gl-3.2.0.min.js\", \"https://cdn.bokeh.org/bokeh/release/bokeh-widgets-3.2.0.min.js\", \"https://cdn.bokeh.org/bokeh/release/bokeh-tables-3.2.0.min.js\", \"https://cdn.bokeh.org/bokeh/release/bokeh-mathjax-3.2.0.min.js\"];\n  const css_urls = [];\n\n  const inline_js = [    function(Bokeh) {\n      Bokeh.set_log_level(\"info\");\n    },\nfunction(Bokeh) {\n    }\n  ];\n\n  function run_inline_js() {\n    if (root.Bokeh !== undefined || force === true) {\n          for (let i = 0; i < inline_js.length; i++) {\n      inline_js[i].call(root, root.Bokeh);\n    }\nif (force === true) {\n        display_loaded();\n      }} else if (Date.now() < root._bokeh_timeout) {\n      setTimeout(run_inline_js, 100);\n    } else if (!root._bokeh_failed_load) {\n      console.log(\"Bokeh: BokehJS failed to load within specified timeout.\");\n      root._bokeh_failed_load = true;\n    } else if (force !== true) {\n      const cell = $(document.getElementById(\"f9470cd8-4b6d-441f-a340-971b2f76a65b\")).parents('.cell').data().cell;\n      cell.output_area.append_execute_result(NB_LOAD_WARNING)\n    }\n  }\n\n  if (root._bokeh_is_loading === 0) {\n    console.debug(\"Bokeh: BokehJS loaded, going straight to plotting\");\n    run_inline_js();\n  } else {\n    load_libs(css_urls, js_urls, function() {\n      console.debug(\"Bokeh: BokehJS plotting callback run at\", now());\n      run_inline_js();\n    });\n  }\n}(window));"
     },
     "metadata": {},
     "output_type": "display_data"
    }
   ],
   "source": [
    "# activate notebook output\n",
    "from bokeh.io import output_notebook\n",
    "\n",
    "output_notebook()"
   ]
  },
  {
   "cell_type": "markdown",
   "metadata": {},
   "source": [
    "This chapter is focused on how Bokeh handles data. The concepts introduced here are\n",
    "fundamental to Bokeh. You will use them throughout the rest of the tutorial.\n",
    "\n",
    "In the previous examples, you have used standard Python lists or Pandas DataFrames as\n",
    "inputs for your data.\n",
    "\n",
    "Behind the scenes, Bokeh converts all these inputs to a Bokeh **ColumnDataSource**.\n",
    "This is **Bokeh's primary internal data structure**. It is used in almost all plots\n",
    "(with the exception of [map plots](#Map-plots)).\n",
    "\n",
    "In most cases, Bokeh can just handle the ColumnDataSource automatically. However,\n",
    "there are many cases where it is useful to create and use a ColumnDataSource\n",
    "directly. Several of Bokeh's more advanced functionalities rely on using\n",
    "a ColumnDataSource. This includes hover tooltips, automatically placed labels,\n",
    "computed transforms, or custom interactions, for example."
   ]
  },
  {
   "cell_type": "markdown",
   "metadata": {},
   "source": [
    "### Creating a ColumnDataSource from a dictionary\n",
    "\n",
    "The first step to creating a `ColumnDataSource` is to import it from `bokeh.models`:"
   ]
  },
  {
   "cell_type": "code",
   "execution_count": 3,
   "metadata": {},
   "outputs": [],
   "source": [
    "from bokeh.models import ColumnDataSource"
   ]
  },
  {
   "cell_type": "markdown",
   "metadata": {},
   "source": [
    "A ColumnDataSource works similarly to a table or a pandas DataFrame. It is a mapping of\n",
    "column names to sequences of values.\n",
    "\n",
    "You can create a ColumnDataSource from Python dictionaries. The keys of the dictionary\n",
    "are the column names, and the values are the sequences of values:"
   ]
  },
  {
   "cell_type": "code",
   "execution_count": 4,
   "metadata": {},
   "outputs": [],
   "source": [
    "source = ColumnDataSource(\n",
    "    data={\n",
    "        \"x\": [1, 2, 3, 4, 5],  # first dictionary creates a column named \"x\"\n",
    "        \"y\": [3, 7, 8, 5, 1],  # second dictionary creates a column named \"y\"\n",
    "    }\n",
    ")"
   ]
  },
  {
   "cell_type": "markdown",
   "metadata": {},
   "source": [
    "To access the contents of any column, use the `data` property of a `ColumnDataSource`:"
   ]
  },
  {
   "cell_type": "code",
   "execution_count": 5,
   "metadata": {},
   "outputs": [
    {
     "data": {
      "text/plain": [
       "[1, 2, 3, 4, 5]"
      ]
     },
     "execution_count": 5,
     "metadata": {},
     "output_type": "execute_result"
    }
   ],
   "source": [
    "source.data[\"x\"]"
   ]
  },
  {
   "cell_type": "markdown",
   "metadata": {},
   "source": [
    "The data you provide here is not limited to lists. You can also use NumPy arrays or \n",
    "pandas Series:"
   ]
  },
  {
   "cell_type": "code",
   "execution_count": 6,
   "metadata": {},
   "outputs": [
    {
     "name": "stdout",
     "output_type": "stream",
     "text": [
      "pandas Series: \n",
      " month\n",
      "1     23895970\n",
      "2     23970797\n",
      "3     38529707\n",
      "4     42939029\n",
      "5     51766337\n",
      "6     58928348\n",
      "7     65267892\n",
      "8     58895098\n",
      "9     52791205\n",
      "10    59338631\n",
      "11    58559178\n",
      "12    58331414\n",
      "Name: passengers, dtype: int64\n",
      "NumPy Array: \n",
      " [ 0  1  2  3  4  5  6  7  8  9 10 11]\n"
     ]
    }
   ],
   "source": [
    "import numpy as np\n",
    "\n",
    "# load pandas series frame from demo data set\n",
    "monthly_passengers_series = data.get_monthly_values()[\"passengers\"]\n",
    "\n",
    "# create NumPy array of same length as the pandas series\n",
    "range_array = np.array(range(0, len(monthly_passengers_series), 1))\n",
    "\n",
    "# create a ColumnDataSource from pandas series and NumPy array\n",
    "source = ColumnDataSource(\n",
    "    data={\n",
    "        \"x\": monthly_passengers_series,  # first dictionary uses a pandas Series\n",
    "        \"y\": range_array,  # second dictionary uses a NumPy array\n",
    "    }\n",
    ")\n",
    "\n",
    "print(f\"pandas Series: \\n {source.data['x']}\")\n",
    "print(f\"NumPy Array: \\n {source.data['y']}\")"
   ]
  },
  {
   "cell_type": "markdown",
   "metadata": {},
   "source": [
    "**All the columns in a ColumnDataSource must always be the SAME length**. This is why\n",
    "the NumPy array in the example above uses `len(monthly_passengers_series)`. This way,\n",
    "the NumPy array is the same length as the pandas Series used for the other column.\n",
    "\n",
    "The following code cell will show an error. Adjust one of the lists to create a valid\n",
    "ColumnDataSource:"
   ]
  },
  {
   "cell_type": "code",
   "execution_count": 8,
   "metadata": {},
   "outputs": [],
   "source": [
    "# 🔁 Adjust one of the lists so that both lists have the same amount of elements\n",
    "source = ColumnDataSource(\n",
    "    data={\n",
    "        \"x\": [1, 2, 3, 4, 5],  # first list contains 4 elements\n",
    "        \"y\": [3, 7, 8, 5, 1],  # ⚠ second list contains 5 elements - this will throw an error\n",
    "    }\n",
    ")"
   ]
  },
  {
   "cell_type": "markdown",
   "metadata": {},
   "source": [
    "In the examples so far, you have used a Python list or pandas series for the `x` and `y`\n",
    "values of functions like `p.circle`. This means that Bokeh has created the\n",
    "ColumnDataSource for you automatically.\n",
    "\n",
    "However, instead of passing individual sequences of values to a renderer, you can also\n",
    "use a ColumnDataSource directly. To use a ColumnDataSource directly, you do two things\n",
    "differently:\n",
    "\n",
    "1. You pass the ColumnDataSource as the `source` argument to a glyph method.\n",
    "2. To use values from the column of a ColumnDataSource, you pass the **name** of that\n",
    "    column as the value for the property. For example, instead of passing `x=[1 ,2 ,3]`,\n",
    "    you pass `x=\"x_values\"`.\n",
    "\n",
    "In the following code cell, you first create a ColumnDataSource from two lists in a\n",
    "dictionary.\n",
    "Then you use those two columns as the `x` and `y` values for a circle glyph:"
   ]
  },
  {
   "cell_type": "code",
   "execution_count": 12,
   "metadata": {},
   "outputs": [
    {
     "data": {
      "text/html": [
       "\n",
       "  <div id=\"db119b2e-e2cb-44d9-bc46-ec928938ec12\" data-root-id=\"p1136\" style=\"display: contents;\"></div>\n"
      ]
     },
     "metadata": {},
     "output_type": "display_data"
    },
    {
     "data": {
      "application/javascript": [
       "(function(root) {\n",
       "  function embed_document(root) {\n",
       "  const docs_json = {\"c4dc712c-6adc-431f-a0c3-9b4811ad04b5\":{\"version\":\"3.2.0\",\"title\":\"Bokeh Application\",\"roots\":[{\"type\":\"object\",\"name\":\"Figure\",\"id\":\"p1136\",\"attributes\":{\"height\":300,\"x_range\":{\"type\":\"object\",\"name\":\"DataRange1d\",\"id\":\"p1137\"},\"y_range\":{\"type\":\"object\",\"name\":\"DataRange1d\",\"id\":\"p1138\"},\"x_scale\":{\"type\":\"object\",\"name\":\"LinearScale\",\"id\":\"p1145\"},\"y_scale\":{\"type\":\"object\",\"name\":\"LinearScale\",\"id\":\"p1146\"},\"title\":{\"type\":\"object\",\"name\":\"Title\",\"id\":\"p1143\"},\"renderers\":[{\"type\":\"object\",\"name\":\"GlyphRenderer\",\"id\":\"p1170\",\"attributes\":{\"data_source\":{\"type\":\"object\",\"name\":\"ColumnDataSource\",\"id\":\"p1133\",\"attributes\":{\"selected\":{\"type\":\"object\",\"name\":\"Selection\",\"id\":\"p1134\",\"attributes\":{\"indices\":[],\"line_indices\":[]}},\"selection_policy\":{\"type\":\"object\",\"name\":\"UnionRenderers\",\"id\":\"p1135\"},\"data\":{\"type\":\"map\",\"entries\":[[\"x_values\",[1,2,3,4,5]],[\"y_values\",[6,7,2,3,6]]]}}},\"view\":{\"type\":\"object\",\"name\":\"CDSView\",\"id\":\"p1171\",\"attributes\":{\"filter\":{\"type\":\"object\",\"name\":\"AllIndices\",\"id\":\"p1172\"}}},\"glyph\":{\"type\":\"object\",\"name\":\"Circle\",\"id\":\"p1167\",\"attributes\":{\"x\":{\"type\":\"field\",\"field\":\"x_values\"},\"y\":{\"type\":\"field\",\"field\":\"y_values\"},\"size\":{\"type\":\"value\",\"value\":25},\"line_color\":{\"type\":\"value\",\"value\":\"#1f77b4\"},\"fill_color\":{\"type\":\"value\",\"value\":\"#1f77b4\"}}},\"nonselection_glyph\":{\"type\":\"object\",\"name\":\"Circle\",\"id\":\"p1168\",\"attributes\":{\"x\":{\"type\":\"field\",\"field\":\"x_values\"},\"y\":{\"type\":\"field\",\"field\":\"y_values\"},\"size\":{\"type\":\"value\",\"value\":25},\"line_color\":{\"type\":\"value\",\"value\":\"#1f77b4\"},\"line_alpha\":{\"type\":\"value\",\"value\":0.1},\"fill_color\":{\"type\":\"value\",\"value\":\"#1f77b4\"},\"fill_alpha\":{\"type\":\"value\",\"value\":0.1},\"hatch_alpha\":{\"type\":\"value\",\"value\":0.1}}},\"muted_glyph\":{\"type\":\"object\",\"name\":\"Circle\",\"id\":\"p1169\",\"attributes\":{\"x\":{\"type\":\"field\",\"field\":\"x_values\"},\"y\":{\"type\":\"field\",\"field\":\"y_values\"},\"size\":{\"type\":\"value\",\"value\":25},\"line_color\":{\"type\":\"value\",\"value\":\"#1f77b4\"},\"line_alpha\":{\"type\":\"value\",\"value\":0.2},\"fill_color\":{\"type\":\"value\",\"value\":\"#1f77b4\"},\"fill_alpha\":{\"type\":\"value\",\"value\":0.2},\"hatch_alpha\":{\"type\":\"value\",\"value\":0.2}}}}}],\"toolbar\":{\"type\":\"object\",\"name\":\"Toolbar\",\"id\":\"p1144\",\"attributes\":{\"tools\":[{\"type\":\"object\",\"name\":\"PanTool\",\"id\":\"p1157\"},{\"type\":\"object\",\"name\":\"WheelZoomTool\",\"id\":\"p1158\"},{\"type\":\"object\",\"name\":\"BoxZoomTool\",\"id\":\"p1159\",\"attributes\":{\"overlay\":{\"type\":\"object\",\"name\":\"BoxAnnotation\",\"id\":\"p1160\",\"attributes\":{\"syncable\":false,\"level\":\"overlay\",\"visible\":false,\"left_units\":\"canvas\",\"right_units\":\"canvas\",\"bottom_units\":\"canvas\",\"top_units\":\"canvas\",\"line_color\":\"black\",\"line_alpha\":1.0,\"line_width\":2,\"line_dash\":[4,4],\"fill_color\":\"lightgrey\",\"fill_alpha\":0.5}}}},{\"type\":\"object\",\"name\":\"SaveTool\",\"id\":\"p1161\"},{\"type\":\"object\",\"name\":\"ResetTool\",\"id\":\"p1162\"},{\"type\":\"object\",\"name\":\"HelpTool\",\"id\":\"p1163\"}]}},\"left\":[{\"type\":\"object\",\"name\":\"LinearAxis\",\"id\":\"p1152\",\"attributes\":{\"ticker\":{\"type\":\"object\",\"name\":\"BasicTicker\",\"id\":\"p1153\",\"attributes\":{\"mantissas\":[1,2,5]}},\"formatter\":{\"type\":\"object\",\"name\":\"BasicTickFormatter\",\"id\":\"p1154\"},\"major_label_policy\":{\"type\":\"object\",\"name\":\"AllLabels\",\"id\":\"p1155\"}}}],\"below\":[{\"type\":\"object\",\"name\":\"LinearAxis\",\"id\":\"p1147\",\"attributes\":{\"ticker\":{\"type\":\"object\",\"name\":\"BasicTicker\",\"id\":\"p1148\",\"attributes\":{\"mantissas\":[1,2,5]}},\"formatter\":{\"type\":\"object\",\"name\":\"BasicTickFormatter\",\"id\":\"p1149\"},\"major_label_policy\":{\"type\":\"object\",\"name\":\"AllLabels\",\"id\":\"p1150\"}}}],\"center\":[{\"type\":\"object\",\"name\":\"Grid\",\"id\":\"p1151\",\"attributes\":{\"axis\":{\"id\":\"p1147\"}}},{\"type\":\"object\",\"name\":\"Grid\",\"id\":\"p1156\",\"attributes\":{\"dimension\":1,\"axis\":{\"id\":\"p1152\"}}}]}}]}};\n",
       "  const render_items = [{\"docid\":\"c4dc712c-6adc-431f-a0c3-9b4811ad04b5\",\"roots\":{\"p1136\":\"db119b2e-e2cb-44d9-bc46-ec928938ec12\"},\"root_ids\":[\"p1136\"]}];\n",
       "  root.Bokeh.embed.embed_items_notebook(docs_json, render_items);\n",
       "  }\n",
       "  if (root.Bokeh !== undefined) {\n",
       "    embed_document(root);\n",
       "  } else {\n",
       "    let attempts = 0;\n",
       "    const timer = setInterval(function(root) {\n",
       "      if (root.Bokeh !== undefined) {\n",
       "        clearInterval(timer);\n",
       "        embed_document(root);\n",
       "      } else {\n",
       "        attempts++;\n",
       "        if (attempts > 100) {\n",
       "          clearInterval(timer);\n",
       "          console.log(\"Bokeh: ERROR: Unable to run BokehJS code because BokehJS library is missing\");\n",
       "        }\n",
       "      }\n",
       "    }, 10, root)\n",
       "  }\n",
       "})(window);"
      ],
      "application/vnd.bokehjs_exec.v0+json": ""
     },
     "metadata": {
      "application/vnd.bokehjs_exec.v0+json": {
       "id": "p1136"
      }
     },
     "output_type": "display_data"
    }
   ],
   "source": [
    "from bokeh.plotting import figure, show\n",
    "from bokeh.models import ColumnDataSource\n",
    "\n",
    "# create dict as basis for ColumnDataSource\n",
    "data_dict = {\"x_values\": [1, 2, 3, 4, 5], \"y_values\": [6, 7, 2, 3, 6]}\n",
    "\n",
    "# create ColumnDataSource based on the dict\n",
    "source = ColumnDataSource(data=data_dict)\n",
    "\n",
    "# create a plot and renderer with ColumnDataSource data\n",
    "p = figure(height=300)\n",
    "p.circle(\n",
    "    x=\"x_values\",  # use the sequence in the \"x_values\" column\n",
    "    y=\"y_values\",  # use the sequence in the \"y_values\" column\n",
    "    source=source,  # use the ColumnDataSource as the data source\n",
    "    size=25,\n",
    ")\n",
    "\n",
    "show(p)"
   ]
  },
  {
   "cell_type": "markdown",
   "metadata": {},
   "source": [
    "### Creating a ColumnDataSource from a DataFrame\n",
    "\n",
    "There are many similarities between a ColumnDataSource and a pandas DataFrame.\n",
    "This is why it is simple to create a `ColumnDataSource` object directly from a\n",
    "DataFrame.\n",
    "\n",
    "Let's use the monthly passenger, freight, and mail data from the demo dataset again:"
   ]
  },
  {
   "cell_type": "code",
   "execution_count": 13,
   "metadata": {},
   "outputs": [
    {
     "data": {
      "text/html": [
       "<div>\n",
       "<style scoped>\n",
       "    .dataframe tbody tr th:only-of-type {\n",
       "        vertical-align: middle;\n",
       "    }\n",
       "\n",
       "    .dataframe tbody tr th {\n",
       "        vertical-align: top;\n",
       "    }\n",
       "\n",
       "    .dataframe thead th {\n",
       "        text-align: right;\n",
       "    }\n",
       "</style>\n",
       "<table border=\"1\" class=\"dataframe\">\n",
       "  <thead>\n",
       "    <tr style=\"text-align: right;\">\n",
       "      <th></th>\n",
       "      <th>passengers</th>\n",
       "      <th>freight</th>\n",
       "      <th>mail</th>\n",
       "      <th>month_name</th>\n",
       "    </tr>\n",
       "    <tr>\n",
       "      <th>month</th>\n",
       "      <th></th>\n",
       "      <th></th>\n",
       "      <th></th>\n",
       "      <th></th>\n",
       "    </tr>\n",
       "  </thead>\n",
       "  <tbody>\n",
       "    <tr>\n",
       "      <th>1</th>\n",
       "      <td>23895970</td>\n",
       "      <td>87598694</td>\n",
       "      <td>46968436</td>\n",
       "      <td>January</td>\n",
       "    </tr>\n",
       "    <tr>\n",
       "      <th>2</th>\n",
       "      <td>23970797</td>\n",
       "      <td>91949788</td>\n",
       "      <td>38184246</td>\n",
       "      <td>February</td>\n",
       "    </tr>\n",
       "    <tr>\n",
       "      <th>3</th>\n",
       "      <td>38529707</td>\n",
       "      <td>110337215</td>\n",
       "      <td>44435455</td>\n",
       "      <td>March</td>\n",
       "    </tr>\n",
       "    <tr>\n",
       "      <th>4</th>\n",
       "      <td>42939029</td>\n",
       "      <td>107077739</td>\n",
       "      <td>46288794</td>\n",
       "      <td>April</td>\n",
       "    </tr>\n",
       "    <tr>\n",
       "      <th>5</th>\n",
       "      <td>51766337</td>\n",
       "      <td>115079453</td>\n",
       "      <td>44898759</td>\n",
       "      <td>May</td>\n",
       "    </tr>\n",
       "  </tbody>\n",
       "</table>\n",
       "</div>"
      ],
      "text/plain": [
       "       passengers    freight      mail month_name\n",
       "month                                            \n",
       "1        23895970   87598694  46968436    January\n",
       "2        23970797   91949788  38184246   February\n",
       "3        38529707  110337215  44435455      March\n",
       "4        42939029  107077739  46288794      April\n",
       "5        51766337  115079453  44898759        May"
      ]
     },
     "execution_count": 13,
     "metadata": {},
     "output_type": "execute_result"
    }
   ],
   "source": [
    "monthly_values_df = data.get_monthly_values()\n",
    "monthly_values_df.head(5)"
   ]
  },
  {
   "cell_type": "markdown",
   "metadata": {},
   "source": [
    "To create a ColumnDataSource from a DataFrame, pass the dataframe when creating the\n",
    "`ColumnDataSource` object:"
   ]
  },
  {
   "cell_type": "code",
   "execution_count": 16,
   "metadata": {},
   "outputs": [
    {
     "data": {
      "text/plain": [
       "dict_keys(['month', 'passengers', 'freight', 'mail', 'month_name'])"
      ]
     },
     "execution_count": 16,
     "metadata": {},
     "output_type": "execute_result"
    }
   ],
   "source": [
    "source = ColumnDataSource(monthly_values_df)\n",
    "source.data.keys()"
   ]
  },
  {
   "cell_type": "markdown",
   "metadata": {},
   "source": [
    "You now have a ColumnDataSource with the same columns as the DataFrame:\n",
    "- a series of values in a column called `\"passengers\"`\n",
    "- a series of values in a column called `\"freight\"`\n",
    "- a series of values in a column called `\"mail\"`\n",
    "- a series of strings in a column called `\"month_names\"`\n",
    "\n",
    "You can use the ColumnDataSource in the same way as before:"
   ]
  },
  {
   "cell_type": "code",
   "execution_count": 23,
   "metadata": {},
   "outputs": [
    {
     "data": {
      "text/html": [
       "\n",
       "  <div id=\"f0703e43-a66f-413e-b292-e9f41cbd596b\" data-root-id=\"p1442\" style=\"display: contents;\"></div>\n"
      ]
     },
     "metadata": {},
     "output_type": "display_data"
    },
    {
     "data": {
      "application/javascript": [
       "(function(root) {\n",
       "  function embed_document(root) {\n",
       "  const docs_json = {\"5e5eabac-0c05-4454-8d0d-97ea3262dd04\":{\"version\":\"3.2.0\",\"title\":\"Bokeh Application\",\"roots\":[{\"type\":\"object\",\"name\":\"Figure\",\"id\":\"p1442\",\"attributes\":{\"height\":300,\"x_range\":{\"type\":\"object\",\"name\":\"FactorRange\",\"id\":\"p1451\",\"attributes\":{\"factors\":[\"January\",\"February\",\"March\",\"April\",\"May\",\"June\",\"July\",\"August\",\"September\",\"October\",\"November\",\"December\"]}},\"y_range\":{\"type\":\"object\",\"name\":\"DataRange1d\",\"id\":\"p1444\"},\"x_scale\":{\"type\":\"object\",\"name\":\"CategoricalScale\",\"id\":\"p1452\"},\"y_scale\":{\"type\":\"object\",\"name\":\"LinearScale\",\"id\":\"p1453\"},\"title\":{\"type\":\"object\",\"name\":\"Title\",\"id\":\"p1449\"},\"renderers\":[{\"type\":\"object\",\"name\":\"GlyphRenderer\",\"id\":\"p1477\",\"attributes\":{\"data_source\":{\"type\":\"object\",\"name\":\"ColumnDataSource\",\"id\":\"p1439\",\"attributes\":{\"selected\":{\"type\":\"object\",\"name\":\"Selection\",\"id\":\"p1440\",\"attributes\":{\"indices\":[],\"line_indices\":[]}},\"selection_policy\":{\"type\":\"object\",\"name\":\"UnionRenderers\",\"id\":\"p1441\"},\"data\":{\"type\":\"map\",\"entries\":[[\"month\",{\"type\":\"ndarray\",\"array\":{\"type\":\"bytes\",\"data\":\"AQAAAAIAAAADAAAABAAAAAUAAAAGAAAABwAAAAgAAAAJAAAACgAAAAsAAAAMAAAA\"},\"shape\":[12],\"dtype\":\"int32\",\"order\":\"little\"}],[\"passengers\",{\"type\":\"ndarray\",\"array\":{\"type\":\"bytes\",\"data\":\"op9sAe3DbQGr6ksClTKPAkHkFQPcLIMDtOjjA/qqggOlhyUDh2+JA8qKfQMWEXoD\"},\"shape\":[12],\"dtype\":\"int32\",\"order\":\"little\"}],[\"freight\",{\"type\":\"ndarray\",\"array\":{\"type\":\"bytes\",\"data\":\"ZqY4BdwKewW/nJMGa+BhBh352wafi+UGsHTdBn5b0QbqldkGN6dIB89MKwcZFlUH\"},\"shape\":[12],\"dtype\":\"int32\",\"order\":\"little\"}],[\"mail\",{\"type\":\"ndarray\",\"array\":{\"type\":\"bytes\",\"data\":\"dK7MAjalRgL/B6YCmk/CAscZrQJGxX0CFNjAAo/txQLhoxoCEpqRAhedbgIEkwsD\"},\"shape\":[12],\"dtype\":\"int32\",\"order\":\"little\"}],[\"month_name\",{\"type\":\"ndarray\",\"array\":[\"January\",\"February\",\"March\",\"April\",\"May\",\"June\",\"July\",\"August\",\"September\",\"October\",\"November\",\"December\"],\"shape\":[12],\"dtype\":\"object\",\"order\":\"little\"}]]}}},\"view\":{\"type\":\"object\",\"name\":\"CDSView\",\"id\":\"p1478\",\"attributes\":{\"filter\":{\"type\":\"object\",\"name\":\"AllIndices\",\"id\":\"p1479\"}}},\"glyph\":{\"type\":\"object\",\"name\":\"VBar\",\"id\":\"p1474\",\"attributes\":{\"x\":{\"type\":\"field\",\"field\":\"month_name\"},\"width\":{\"type\":\"value\",\"value\":0.9},\"top\":{\"type\":\"field\",\"field\":\"freight\"},\"line_color\":{\"type\":\"value\",\"value\":\"#1f77b4\"},\"fill_color\":{\"type\":\"value\",\"value\":\"#1f77b4\"}}},\"nonselection_glyph\":{\"type\":\"object\",\"name\":\"VBar\",\"id\":\"p1475\",\"attributes\":{\"x\":{\"type\":\"field\",\"field\":\"month_name\"},\"width\":{\"type\":\"value\",\"value\":0.9},\"top\":{\"type\":\"field\",\"field\":\"freight\"},\"line_color\":{\"type\":\"value\",\"value\":\"#1f77b4\"},\"line_alpha\":{\"type\":\"value\",\"value\":0.1},\"fill_color\":{\"type\":\"value\",\"value\":\"#1f77b4\"},\"fill_alpha\":{\"type\":\"value\",\"value\":0.1},\"hatch_alpha\":{\"type\":\"value\",\"value\":0.1}}},\"muted_glyph\":{\"type\":\"object\",\"name\":\"VBar\",\"id\":\"p1476\",\"attributes\":{\"x\":{\"type\":\"field\",\"field\":\"month_name\"},\"width\":{\"type\":\"value\",\"value\":0.9},\"top\":{\"type\":\"field\",\"field\":\"freight\"},\"line_color\":{\"type\":\"value\",\"value\":\"#1f77b4\"},\"line_alpha\":{\"type\":\"value\",\"value\":0.2},\"fill_color\":{\"type\":\"value\",\"value\":\"#1f77b4\"},\"fill_alpha\":{\"type\":\"value\",\"value\":0.2},\"hatch_alpha\":{\"type\":\"value\",\"value\":0.2}}}}},{\"type\":\"object\",\"name\":\"GlyphRenderer\",\"id\":\"p1486\",\"attributes\":{\"data_source\":{\"id\":\"p1439\"},\"view\":{\"type\":\"object\",\"name\":\"CDSView\",\"id\":\"p1487\",\"attributes\":{\"filter\":{\"type\":\"object\",\"name\":\"AllIndices\",\"id\":\"p1488\"}}},\"glyph\":{\"type\":\"object\",\"name\":\"VBar\",\"id\":\"p1483\",\"attributes\":{\"x\":{\"type\":\"field\",\"field\":\"month_name\"},\"width\":{\"type\":\"value\",\"value\":0.9},\"top\":{\"type\":\"field\",\"field\":\"passengers\"},\"line_color\":{\"type\":\"value\",\"value\":\"tomato\"},\"fill_color\":{\"type\":\"value\",\"value\":\"tomato\"},\"hatch_color\":{\"type\":\"value\",\"value\":\"tomato\"}}},\"nonselection_glyph\":{\"type\":\"object\",\"name\":\"VBar\",\"id\":\"p1484\",\"attributes\":{\"x\":{\"type\":\"field\",\"field\":\"month_name\"},\"width\":{\"type\":\"value\",\"value\":0.9},\"top\":{\"type\":\"field\",\"field\":\"passengers\"},\"line_color\":{\"type\":\"value\",\"value\":\"tomato\"},\"line_alpha\":{\"type\":\"value\",\"value\":0.1},\"fill_color\":{\"type\":\"value\",\"value\":\"tomato\"},\"fill_alpha\":{\"type\":\"value\",\"value\":0.1},\"hatch_color\":{\"type\":\"value\",\"value\":\"tomato\"},\"hatch_alpha\":{\"type\":\"value\",\"value\":0.1}}},\"muted_glyph\":{\"type\":\"object\",\"name\":\"VBar\",\"id\":\"p1485\",\"attributes\":{\"x\":{\"type\":\"field\",\"field\":\"month_name\"},\"width\":{\"type\":\"value\",\"value\":0.9},\"top\":{\"type\":\"field\",\"field\":\"passengers\"},\"line_color\":{\"type\":\"value\",\"value\":\"tomato\"},\"line_alpha\":{\"type\":\"value\",\"value\":0.2},\"fill_color\":{\"type\":\"value\",\"value\":\"tomato\"},\"fill_alpha\":{\"type\":\"value\",\"value\":0.2},\"hatch_color\":{\"type\":\"value\",\"value\":\"tomato\"},\"hatch_alpha\":{\"type\":\"value\",\"value\":0.2}}}}}],\"toolbar\":{\"type\":\"object\",\"name\":\"Toolbar\",\"id\":\"p1450\",\"attributes\":{\"tools\":[{\"type\":\"object\",\"name\":\"PanTool\",\"id\":\"p1464\"},{\"type\":\"object\",\"name\":\"WheelZoomTool\",\"id\":\"p1465\"},{\"type\":\"object\",\"name\":\"BoxZoomTool\",\"id\":\"p1466\",\"attributes\":{\"overlay\":{\"type\":\"object\",\"name\":\"BoxAnnotation\",\"id\":\"p1467\",\"attributes\":{\"syncable\":false,\"level\":\"overlay\",\"visible\":false,\"left_units\":\"canvas\",\"right_units\":\"canvas\",\"bottom_units\":\"canvas\",\"top_units\":\"canvas\",\"line_color\":\"black\",\"line_alpha\":1.0,\"line_width\":2,\"line_dash\":[4,4],\"fill_color\":\"lightgrey\",\"fill_alpha\":0.5}}}},{\"type\":\"object\",\"name\":\"SaveTool\",\"id\":\"p1468\"},{\"type\":\"object\",\"name\":\"ResetTool\",\"id\":\"p1469\"},{\"type\":\"object\",\"name\":\"HelpTool\",\"id\":\"p1470\"}]}},\"left\":[{\"type\":\"object\",\"name\":\"LinearAxis\",\"id\":\"p1459\",\"attributes\":{\"ticker\":{\"type\":\"object\",\"name\":\"BasicTicker\",\"id\":\"p1460\",\"attributes\":{\"mantissas\":[1,2,5]}},\"formatter\":{\"type\":\"object\",\"name\":\"BasicTickFormatter\",\"id\":\"p1461\"},\"major_label_policy\":{\"type\":\"object\",\"name\":\"AllLabels\",\"id\":\"p1462\"}}}],\"below\":[{\"type\":\"object\",\"name\":\"CategoricalAxis\",\"id\":\"p1454\",\"attributes\":{\"ticker\":{\"type\":\"object\",\"name\":\"CategoricalTicker\",\"id\":\"p1455\"},\"formatter\":{\"type\":\"object\",\"name\":\"CategoricalTickFormatter\",\"id\":\"p1456\"},\"major_label_policy\":{\"type\":\"object\",\"name\":\"AllLabels\",\"id\":\"p1457\"}}}],\"center\":[{\"type\":\"object\",\"name\":\"Grid\",\"id\":\"p1458\",\"attributes\":{\"axis\":{\"id\":\"p1454\"}}},{\"type\":\"object\",\"name\":\"Grid\",\"id\":\"p1463\",\"attributes\":{\"dimension\":1,\"axis\":{\"id\":\"p1459\"}}}]}}]}};\n",
       "  const render_items = [{\"docid\":\"5e5eabac-0c05-4454-8d0d-97ea3262dd04\",\"roots\":{\"p1442\":\"f0703e43-a66f-413e-b292-e9f41cbd596b\"},\"root_ids\":[\"p1442\"]}];\n",
       "  root.Bokeh.embed.embed_items_notebook(docs_json, render_items);\n",
       "  }\n",
       "  if (root.Bokeh !== undefined) {\n",
       "    embed_document(root);\n",
       "  } else {\n",
       "    let attempts = 0;\n",
       "    const timer = setInterval(function(root) {\n",
       "      if (root.Bokeh !== undefined) {\n",
       "        clearInterval(timer);\n",
       "        embed_document(root);\n",
       "      } else {\n",
       "        attempts++;\n",
       "        if (attempts > 100) {\n",
       "          clearInterval(timer);\n",
       "          console.log(\"Bokeh: ERROR: Unable to run BokehJS code because BokehJS library is missing\");\n",
       "        }\n",
       "      }\n",
       "    }, 10, root)\n",
       "  }\n",
       "})(window);"
      ],
      "application/vnd.bokehjs_exec.v0+json": ""
     },
     "metadata": {
      "application/vnd.bokehjs_exec.v0+json": {
       "id": "p1442"
      }
     },
     "output_type": "display_data"
    }
   ],
   "source": [
    "from bokeh.plotting import figure, show\n",
    "from bokeh.models import ColumnDataSource\n",
    "\n",
    "# create ColumnDataSource based on DataFrame from the demo data set\n",
    "source = ColumnDataSource(monthly_values_df)\n",
    "\n",
    "# set up the figure\n",
    "p = figure(\n",
    "    height=300,\n",
    "    x_range=source.data[\"month_name\"],  # use the sequence of strings from the \"month_name\" column as categories\n",
    ")\n",
    "\n",
    "# create a line renderer with data from the \"freight\" column\n",
    "p.vbar(\n",
    "    x=\"month_name\",  # use the sequence of strings from the \"month_name\" column as categories\n",
    "    top=\"freight\",  # use the sequence of values from the \"freight\" column as values\n",
    "    width=0.9,\n",
    "    source=source,\n",
    ")\n",
    "\n",
    "# create a second line renderer with data from a different column\n",
    "p.vbar(\n",
    "    x=\"month_name\",  # use the sequence of strings from the \"month_name\" column as categories\n",
    "    top=\"passengers\",  # use the sequence of values from the \"passengers\" column as values\n",
    "#     top=\"mail\",       # 🔁 use this line instead of the one above to use data from the \"mail\" column\n",
    "    width=0.9,\n",
    "    color=\"tomato\",\n",
    "    source=source,\n",
    ")\n",
    "\n",
    "show(p)"
   ]
  },
  {
   "cell_type": "markdown",
   "metadata": {},
   "source": [
    "For more information about the ColumnDataSource, see [Data sources](https://docs.bokeh.org/en/latest/docs/user_guide/basic/data.html)\n",
    "in the user guide."
   ]
  },
  {
   "cell_type": "markdown",
   "metadata": {},
   "source": [
    "### ColumnDataSource transforms\n",
    "\n",
    "Using ColumnDataSource objects also allows you to use Bokeh's built-in transforms.\n",
    "Transforms are useful for performing computations on the data before the data is\n",
    "displayed.\n",
    "These transforms are performed by BokehJS, in the browser.\n",
    "This means the underlying data is not modified and is always available for other plots\n",
    "in the same document.\n",
    "\n",
    "All transforms need to be imported from `bokeh.transform`."
   ]
  },
  {
   "cell_type": "markdown",
   "metadata": {},
   "source": [
    "#### The cumsum transform\n",
    "\n",
    "The `cumsum` transform generates a new sequence of values from a ColumnDataSource\n",
    "column. This new column **cumulatively sums the values in the original column**.\n",
    "\n",
    "For example:"
   ]
  },
  {
   "cell_type": "code",
   "execution_count": 24,
   "metadata": {},
   "outputs": [
    {
     "data": {
      "text/html": [
       "\n",
       "  <div id=\"ea20f9b4-dfb5-4e9d-9d45-0a7d81d062fe\" data-root-id=\"p1496\" style=\"display: contents;\"></div>\n"
      ]
     },
     "metadata": {},
     "output_type": "display_data"
    },
    {
     "data": {
      "application/javascript": [
       "(function(root) {\n",
       "  function embed_document(root) {\n",
       "  const docs_json = {\"ef6d1458-120e-4554-94d0-dbe30918a917\":{\"version\":\"3.2.0\",\"title\":\"Bokeh Application\",\"roots\":[{\"type\":\"object\",\"name\":\"Figure\",\"id\":\"p1496\",\"attributes\":{\"height\":300,\"x_range\":{\"type\":\"object\",\"name\":\"FactorRange\",\"id\":\"p1505\",\"attributes\":{\"factors\":[\"January\",\"February\",\"March\",\"April\",\"May\",\"June\",\"July\",\"August\",\"September\",\"October\",\"November\",\"December\"]}},\"y_range\":{\"type\":\"object\",\"name\":\"DataRange1d\",\"id\":\"p1498\"},\"x_scale\":{\"type\":\"object\",\"name\":\"CategoricalScale\",\"id\":\"p1506\"},\"y_scale\":{\"type\":\"object\",\"name\":\"LinearScale\",\"id\":\"p1507\"},\"title\":{\"type\":\"object\",\"name\":\"Title\",\"id\":\"p1503\"},\"renderers\":[{\"type\":\"object\",\"name\":\"GlyphRenderer\",\"id\":\"p1532\",\"attributes\":{\"data_source\":{\"type\":\"object\",\"name\":\"ColumnDataSource\",\"id\":\"p1493\",\"attributes\":{\"selected\":{\"type\":\"object\",\"name\":\"Selection\",\"id\":\"p1494\",\"attributes\":{\"indices\":[],\"line_indices\":[]}},\"selection_policy\":{\"type\":\"object\",\"name\":\"UnionRenderers\",\"id\":\"p1495\"},\"data\":{\"type\":\"map\",\"entries\":[[\"month\",{\"type\":\"ndarray\",\"array\":{\"type\":\"bytes\",\"data\":\"AQAAAAIAAAADAAAABAAAAAUAAAAGAAAABwAAAAgAAAAJAAAACgAAAAsAAAAMAAAA\"},\"shape\":[12],\"dtype\":\"int32\",\"order\":\"little\"}],[\"passengers\",{\"type\":\"ndarray\",\"array\":{\"type\":\"bytes\",\"data\":\"op9sAe3DbQGr6ksClTKPAkHkFQPcLIMDtOjjA/qqggOlhyUDh2+JA8qKfQMWEXoD\"},\"shape\":[12],\"dtype\":\"int32\",\"order\":\"little\"}],[\"freight\",{\"type\":\"ndarray\",\"array\":{\"type\":\"bytes\",\"data\":\"ZqY4BdwKewW/nJMGa+BhBh352wafi+UGsHTdBn5b0QbqldkGN6dIB89MKwcZFlUH\"},\"shape\":[12],\"dtype\":\"int32\",\"order\":\"little\"}],[\"mail\",{\"type\":\"ndarray\",\"array\":{\"type\":\"bytes\",\"data\":\"dK7MAjalRgL/B6YCmk/CAscZrQJGxX0CFNjAAo/txQLhoxoCEpqRAhedbgIEkwsD\"},\"shape\":[12],\"dtype\":\"int32\",\"order\":\"little\"}],[\"month_name\",{\"type\":\"ndarray\",\"array\":[\"January\",\"February\",\"March\",\"April\",\"May\",\"June\",\"July\",\"August\",\"September\",\"October\",\"November\",\"December\"],\"shape\":[12],\"dtype\":\"object\",\"order\":\"little\"}]]}}},\"view\":{\"type\":\"object\",\"name\":\"CDSView\",\"id\":\"p1533\",\"attributes\":{\"filter\":{\"type\":\"object\",\"name\":\"AllIndices\",\"id\":\"p1534\"}}},\"glyph\":{\"type\":\"object\",\"name\":\"VBar\",\"id\":\"p1529\",\"attributes\":{\"x\":{\"type\":\"field\",\"field\":\"month_name\"},\"width\":{\"type\":\"value\",\"value\":0.9},\"top\":{\"type\":\"expr\",\"expr\":{\"type\":\"object\",\"name\":\"CumSum\",\"id\":\"p1525\",\"attributes\":{\"field\":\"passengers\",\"include_zero\":true}}},\"line_color\":{\"type\":\"value\",\"value\":\"#1f77b4\"},\"fill_color\":{\"type\":\"value\",\"value\":\"#1f77b4\"}}},\"nonselection_glyph\":{\"type\":\"object\",\"name\":\"VBar\",\"id\":\"p1530\",\"attributes\":{\"x\":{\"type\":\"field\",\"field\":\"month_name\"},\"width\":{\"type\":\"value\",\"value\":0.9},\"top\":{\"type\":\"expr\",\"expr\":{\"id\":\"p1525\"}},\"line_color\":{\"type\":\"value\",\"value\":\"#1f77b4\"},\"line_alpha\":{\"type\":\"value\",\"value\":0.1},\"fill_color\":{\"type\":\"value\",\"value\":\"#1f77b4\"},\"fill_alpha\":{\"type\":\"value\",\"value\":0.1},\"hatch_alpha\":{\"type\":\"value\",\"value\":0.1}}},\"muted_glyph\":{\"type\":\"object\",\"name\":\"VBar\",\"id\":\"p1531\",\"attributes\":{\"x\":{\"type\":\"field\",\"field\":\"month_name\"},\"width\":{\"type\":\"value\",\"value\":0.9},\"top\":{\"type\":\"expr\",\"expr\":{\"id\":\"p1525\"}},\"line_color\":{\"type\":\"value\",\"value\":\"#1f77b4\"},\"line_alpha\":{\"type\":\"value\",\"value\":0.2},\"fill_color\":{\"type\":\"value\",\"value\":\"#1f77b4\"},\"fill_alpha\":{\"type\":\"value\",\"value\":0.2},\"hatch_alpha\":{\"type\":\"value\",\"value\":0.2}}}}}],\"toolbar\":{\"type\":\"object\",\"name\":\"Toolbar\",\"id\":\"p1504\",\"attributes\":{\"tools\":[{\"type\":\"object\",\"name\":\"PanTool\",\"id\":\"p1518\"},{\"type\":\"object\",\"name\":\"WheelZoomTool\",\"id\":\"p1519\"},{\"type\":\"object\",\"name\":\"BoxZoomTool\",\"id\":\"p1520\",\"attributes\":{\"overlay\":{\"type\":\"object\",\"name\":\"BoxAnnotation\",\"id\":\"p1521\",\"attributes\":{\"syncable\":false,\"level\":\"overlay\",\"visible\":false,\"left_units\":\"canvas\",\"right_units\":\"canvas\",\"bottom_units\":\"canvas\",\"top_units\":\"canvas\",\"line_color\":\"black\",\"line_alpha\":1.0,\"line_width\":2,\"line_dash\":[4,4],\"fill_color\":\"lightgrey\",\"fill_alpha\":0.5}}}},{\"type\":\"object\",\"name\":\"SaveTool\",\"id\":\"p1522\"},{\"type\":\"object\",\"name\":\"ResetTool\",\"id\":\"p1523\"},{\"type\":\"object\",\"name\":\"HelpTool\",\"id\":\"p1524\"}]}},\"left\":[{\"type\":\"object\",\"name\":\"LinearAxis\",\"id\":\"p1513\",\"attributes\":{\"ticker\":{\"type\":\"object\",\"name\":\"BasicTicker\",\"id\":\"p1514\",\"attributes\":{\"mantissas\":[1,2,5]}},\"formatter\":{\"type\":\"object\",\"name\":\"BasicTickFormatter\",\"id\":\"p1515\"},\"major_label_policy\":{\"type\":\"object\",\"name\":\"AllLabels\",\"id\":\"p1516\"}}}],\"below\":[{\"type\":\"object\",\"name\":\"CategoricalAxis\",\"id\":\"p1508\",\"attributes\":{\"ticker\":{\"type\":\"object\",\"name\":\"CategoricalTicker\",\"id\":\"p1509\"},\"formatter\":{\"type\":\"object\",\"name\":\"CategoricalTickFormatter\",\"id\":\"p1510\"},\"major_label_policy\":{\"type\":\"object\",\"name\":\"AllLabels\",\"id\":\"p1511\"}}}],\"center\":[{\"type\":\"object\",\"name\":\"Grid\",\"id\":\"p1512\",\"attributes\":{\"axis\":{\"id\":\"p1508\"}}},{\"type\":\"object\",\"name\":\"Grid\",\"id\":\"p1517\",\"attributes\":{\"dimension\":1,\"axis\":{\"id\":\"p1513\"}}}]}}]}};\n",
       "  const render_items = [{\"docid\":\"ef6d1458-120e-4554-94d0-dbe30918a917\",\"roots\":{\"p1496\":\"ea20f9b4-dfb5-4e9d-9d45-0a7d81d062fe\"},\"root_ids\":[\"p1496\"]}];\n",
       "  root.Bokeh.embed.embed_items_notebook(docs_json, render_items);\n",
       "  }\n",
       "  if (root.Bokeh !== undefined) {\n",
       "    embed_document(root);\n",
       "  } else {\n",
       "    let attempts = 0;\n",
       "    const timer = setInterval(function(root) {\n",
       "      if (root.Bokeh !== undefined) {\n",
       "        clearInterval(timer);\n",
       "        embed_document(root);\n",
       "      } else {\n",
       "        attempts++;\n",
       "        if (attempts > 100) {\n",
       "          clearInterval(timer);\n",
       "          console.log(\"Bokeh: ERROR: Unable to run BokehJS code because BokehJS library is missing\");\n",
       "        }\n",
       "      }\n",
       "    }, 10, root)\n",
       "  }\n",
       "})(window);"
      ],
      "application/vnd.bokehjs_exec.v0+json": ""
     },
     "metadata": {
      "application/vnd.bokehjs_exec.v0+json": {
       "id": "p1496"
      }
     },
     "output_type": "display_data"
    }
   ],
   "source": [
    "from bokeh.transform import cumsum\n",
    "\n",
    "# create ColumnDataSource based on DataFrame from the demo data set\n",
    "source = ColumnDataSource(monthly_values_df)\n",
    "\n",
    "# set up the figure\n",
    "p = figure(\n",
    "    height=300,\n",
    "    x_range=source.data[\"month_name\"],\n",
    ")\n",
    "\n",
    "# create a bar chart with cumulative data from the \"mail\" column\n",
    "p.vbar(\n",
    "    x=\"month_name\",\n",
    "    top=cumsum(\"passengers\", include_zero=True),  # use the cumulative sums of the \"passengers\" column as values\n",
    "    width=0.9,\n",
    "    source=source,\n",
    ")\n",
    "\n",
    "\n",
    "show(p)"
   ]
  },
  {
   "cell_type": "markdown",
   "metadata": {},
   "source": [
    "#### The linear_cmap transform\n",
    "\n",
    "The ``linear_cmap`` transform generates a new sequence of colors by **applying a linear\n",
    "color map** to a ColumnDataSource column.\n",
    "\n",
    "See [05 Styling plots](05_styling.ipynb#Color-mappers-and-palettes) for more information\n",
    "about color mappers."
   ]
  },
  {
   "cell_type": "code",
   "execution_count": 29,
   "metadata": {},
   "outputs": [
    {
     "data": {
      "text/html": [
       "\n",
       "  <div id=\"d56d5eb2-4ff7-455f-bae4-15d8fe751786\" data-root-id=\"p1715\" style=\"display: contents;\"></div>\n"
      ]
     },
     "metadata": {},
     "output_type": "display_data"
    },
    {
     "data": {
      "application/javascript": [
       "(function(root) {\n",
       "  function embed_document(root) {\n",
       "  const docs_json = {\"8674ec2f-1ec2-4bcd-be66-6e8f6a682166\":{\"version\":\"3.2.0\",\"title\":\"Bokeh Application\",\"roots\":[{\"type\":\"object\",\"name\":\"Figure\",\"id\":\"p1715\",\"attributes\":{\"height\":300,\"x_range\":{\"type\":\"object\",\"name\":\"DataRange1d\",\"id\":\"p1716\"},\"y_range\":{\"type\":\"object\",\"name\":\"DataRange1d\",\"id\":\"p1717\"},\"x_scale\":{\"type\":\"object\",\"name\":\"LinearScale\",\"id\":\"p1724\"},\"y_scale\":{\"type\":\"object\",\"name\":\"LinearScale\",\"id\":\"p1725\"},\"title\":{\"type\":\"object\",\"name\":\"Title\",\"id\":\"p1722\"},\"renderers\":[{\"type\":\"object\",\"name\":\"GlyphRenderer\",\"id\":\"p1753\",\"attributes\":{\"data_source\":{\"type\":\"object\",\"name\":\"ColumnDataSource\",\"id\":\"p1744\",\"attributes\":{\"selected\":{\"type\":\"object\",\"name\":\"Selection\",\"id\":\"p1745\",\"attributes\":{\"indices\":[],\"line_indices\":[]}},\"selection_policy\":{\"type\":\"object\",\"name\":\"UnionRenderers\",\"id\":\"p1746\"},\"data\":{\"type\":\"map\",\"entries\":[[\"x\",{\"type\":\"ndarray\",\"array\":{\"type\":\"bytes\",\"data\":\"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\"},\"shape\":[2000],\"dtype\":\"float64\",\"order\":\"little\"}],[\"y\",{\"type\":\"ndarray\",\"array\":{\"type\":\"bytes\",\"data\":\"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\"},\"shape\":[2000],\"dtype\":\"float64\",\"order\":\"little\"}],[\"r\",{\"type\":\"ndarray\",\"array\":{\"type\":\"bytes\",\"data\":\"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\"},\"shape\":[2000],\"dtype\":\"float64\",\"order\":\"little\"}]]}}},\"view\":{\"type\":\"object\",\"name\":\"CDSView\",\"id\":\"p1754\",\"attributes\":{\"filter\":{\"type\":\"object\",\"name\":\"AllIndices\",\"id\":\"p1755\"}}},\"glyph\":{\"type\":\"object\",\"name\":\"Circle\",\"id\":\"p1750\",\"attributes\":{\"x\":{\"type\":\"field\",\"field\":\"x\"},\"y\":{\"type\":\"field\",\"field\":\"y\"},\"line_color\":{\"type\":\"field\",\"field\":\"x\",\"transform\":{\"type\":\"object\",\"name\":\"LinearColorMapper\",\"id\":\"p1743\",\"attributes\":{\"palette\":[\"#440154\",\"#440255\",\"#440357\",\"#450558\",\"#45065A\",\"#45085B\",\"#46095C\",\"#460B5E\",\"#460C5F\",\"#460E61\",\"#470F62\",\"#471163\",\"#471265\",\"#471466\",\"#471567\",\"#471669\",\"#47186A\",\"#48196B\",\"#481A6C\",\"#481C6E\",\"#481D6F\",\"#481E70\",\"#482071\",\"#482172\",\"#482273\",\"#482374\",\"#472575\",\"#472676\",\"#472777\",\"#472878\",\"#472A79\",\"#472B7A\",\"#472C7B\",\"#462D7C\",\"#462F7C\",\"#46307D\",\"#46317E\",\"#45327F\",\"#45347F\",\"#453580\",\"#453681\",\"#443781\",\"#443982\",\"#433A83\",\"#433B83\",\"#433C84\",\"#423D84\",\"#423E85\",\"#424085\",\"#414186\",\"#414286\",\"#404387\",\"#404487\",\"#3F4587\",\"#3F4788\",\"#3E4888\",\"#3E4989\",\"#3D4A89\",\"#3D4B89\",\"#3D4C89\",\"#3C4D8A\",\"#3C4E8A\",\"#3B508A\",\"#3B518A\",\"#3A528B\",\"#3A538B\",\"#39548B\",\"#39558B\",\"#38568B\",\"#38578C\",\"#37588C\",\"#37598C\",\"#365A8C\",\"#365B8C\",\"#355C8C\",\"#355D8C\",\"#345E8D\",\"#345F8D\",\"#33608D\",\"#33618D\",\"#32628D\",\"#32638D\",\"#31648D\",\"#31658D\",\"#31668D\",\"#30678D\",\"#30688D\",\"#2F698D\",\"#2F6A8D\",\"#2E6B8E\",\"#2E6C8E\",\"#2E6D8E\",\"#2D6E8E\",\"#2D6F8E\",\"#2C708E\",\"#2C718E\",\"#2C728E\",\"#2B738E\",\"#2B748E\",\"#2A758E\",\"#2A768E\",\"#2A778E\",\"#29788E\",\"#29798E\",\"#287A8E\",\"#287A8E\",\"#287B8E\",\"#277C8E\",\"#277D8E\",\"#277E8E\",\"#267F8E\",\"#26808E\",\"#26818E\",\"#25828E\",\"#25838D\",\"#24848D\",\"#24858D\",\"#24868D\",\"#23878D\",\"#23888D\",\"#23898D\",\"#22898D\",\"#228A8D\",\"#228B8D\",\"#218C8D\",\"#218D8C\",\"#218E8C\",\"#208F8C\",\"#20908C\",\"#20918C\",\"#1F928C\",\"#1F938B\",\"#1F948B\",\"#1F958B\",\"#1F968B\",\"#1E978A\",\"#1E988A\",\"#1E998A\",\"#1E998A\",\"#1E9A89\",\"#1E9B89\",\"#1E9C89\",\"#1E9D88\",\"#1E9E88\",\"#1E9F88\",\"#1EA087\",\"#1FA187\",\"#1FA286\",\"#1FA386\",\"#20A485\",\"#20A585\",\"#21A685\",\"#21A784\",\"#22A784\",\"#23A883\",\"#23A982\",\"#24AA82\",\"#25AB81\",\"#26AC81\",\"#27AD80\",\"#28AE7F\",\"#29AF7F\",\"#2AB07E\",\"#2BB17D\",\"#2CB17D\",\"#2EB27C\",\"#2FB37B\",\"#30B47A\",\"#32B57A\",\"#33B679\",\"#35B778\",\"#36B877\",\"#38B976\",\"#39B976\",\"#3BBA75\",\"#3DBB74\",\"#3EBC73\",\"#40BD72\",\"#42BE71\",\"#44BE70\",\"#45BF6F\",\"#47C06E\",\"#49C16D\",\"#4BC26C\",\"#4DC26B\",\"#4FC369\",\"#51C468\",\"#53C567\",\"#55C666\",\"#57C665\",\"#59C764\",\"#5BC862\",\"#5EC961\",\"#60C960\",\"#62CA5F\",\"#64CB5D\",\"#67CC5C\",\"#69CC5B\",\"#6BCD59\",\"#6DCE58\",\"#70CE56\",\"#72CF55\",\"#74D054\",\"#77D052\",\"#79D151\",\"#7CD24F\",\"#7ED24E\",\"#81D34C\",\"#83D34B\",\"#86D449\",\"#88D547\",\"#8BD546\",\"#8DD644\",\"#90D643\",\"#92D741\",\"#95D73F\",\"#97D83E\",\"#9AD83C\",\"#9DD93A\",\"#9FD938\",\"#A2DA37\",\"#A5DA35\",\"#A7DB33\",\"#AADB32\",\"#ADDC30\",\"#AFDC2E\",\"#B2DD2C\",\"#B5DD2B\",\"#B7DD29\",\"#BADE27\",\"#BDDE26\",\"#BFDF24\",\"#C2DF22\",\"#C5DF21\",\"#C7E01F\",\"#CAE01E\",\"#CDE01D\",\"#CFE11C\",\"#D2E11B\",\"#D4E11A\",\"#D7E219\",\"#DAE218\",\"#DCE218\",\"#DFE318\",\"#E1E318\",\"#E4E318\",\"#E7E419\",\"#E9E419\",\"#ECE41A\",\"#EEE51B\",\"#F1E51C\",\"#F3E51E\",\"#F6E61F\",\"#F8E621\",\"#FAE622\",\"#FDE724\"],\"low\":20,\"high\":80}}},\"fill_color\":{\"type\":\"field\",\"field\":\"x\",\"transform\":{\"id\":\"p1743\"}},\"fill_alpha\":{\"type\":\"value\",\"value\":0.6},\"hatch_color\":{\"type\":\"field\",\"field\":\"x\",\"transform\":{\"id\":\"p1743\"}},\"radius\":{\"type\":\"field\",\"field\":\"r\"}}},\"nonselection_glyph\":{\"type\":\"object\",\"name\":\"Circle\",\"id\":\"p1751\",\"attributes\":{\"x\":{\"type\":\"field\",\"field\":\"x\"},\"y\":{\"type\":\"field\",\"field\":\"y\"},\"line_color\":{\"type\":\"field\",\"field\":\"x\",\"transform\":{\"id\":\"p1743\"}},\"line_alpha\":{\"type\":\"value\",\"value\":0.1},\"fill_color\":{\"type\":\"field\",\"field\":\"x\",\"transform\":{\"id\":\"p1743\"}},\"fill_alpha\":{\"type\":\"value\",\"value\":0.1},\"hatch_color\":{\"type\":\"field\",\"field\":\"x\",\"transform\":{\"id\":\"p1743\"}},\"hatch_alpha\":{\"type\":\"value\",\"value\":0.1},\"radius\":{\"type\":\"field\",\"field\":\"r\"}}},\"muted_glyph\":{\"type\":\"object\",\"name\":\"Circle\",\"id\":\"p1752\",\"attributes\":{\"x\":{\"type\":\"field\",\"field\":\"x\"},\"y\":{\"type\":\"field\",\"field\":\"y\"},\"line_color\":{\"type\":\"field\",\"field\":\"x\",\"transform\":{\"id\":\"p1743\"}},\"line_alpha\":{\"type\":\"value\",\"value\":0.2},\"fill_color\":{\"type\":\"field\",\"field\":\"x\",\"transform\":{\"id\":\"p1743\"}},\"fill_alpha\":{\"type\":\"value\",\"value\":0.2},\"hatch_color\":{\"type\":\"field\",\"field\":\"x\",\"transform\":{\"id\":\"p1743\"}},\"hatch_alpha\":{\"type\":\"value\",\"value\":0.2},\"radius\":{\"type\":\"field\",\"field\":\"r\"}}}}}],\"toolbar\":{\"type\":\"object\",\"name\":\"Toolbar\",\"id\":\"p1723\",\"attributes\":{\"tools\":[{\"type\":\"object\",\"name\":\"PanTool\",\"id\":\"p1736\"},{\"type\":\"object\",\"name\":\"WheelZoomTool\",\"id\":\"p1737\"},{\"type\":\"object\",\"name\":\"BoxZoomTool\",\"id\":\"p1738\",\"attributes\":{\"overlay\":{\"type\":\"object\",\"name\":\"BoxAnnotation\",\"id\":\"p1739\",\"attributes\":{\"syncable\":false,\"level\":\"overlay\",\"visible\":false,\"left_units\":\"canvas\",\"right_units\":\"canvas\",\"bottom_units\":\"canvas\",\"top_units\":\"canvas\",\"line_color\":\"black\",\"line_alpha\":1.0,\"line_width\":2,\"line_dash\":[4,4],\"fill_color\":\"lightgrey\",\"fill_alpha\":0.5}}}},{\"type\":\"object\",\"name\":\"SaveTool\",\"id\":\"p1740\"},{\"type\":\"object\",\"name\":\"ResetTool\",\"id\":\"p1741\"},{\"type\":\"object\",\"name\":\"HelpTool\",\"id\":\"p1742\"}]}},\"left\":[{\"type\":\"object\",\"name\":\"LinearAxis\",\"id\":\"p1731\",\"attributes\":{\"ticker\":{\"type\":\"object\",\"name\":\"BasicTicker\",\"id\":\"p1732\",\"attributes\":{\"mantissas\":[1,2,5]}},\"formatter\":{\"type\":\"object\",\"name\":\"BasicTickFormatter\",\"id\":\"p1733\"},\"major_label_policy\":{\"type\":\"object\",\"name\":\"AllLabels\",\"id\":\"p1734\"}}}],\"below\":[{\"type\":\"object\",\"name\":\"LinearAxis\",\"id\":\"p1726\",\"attributes\":{\"ticker\":{\"type\":\"object\",\"name\":\"BasicTicker\",\"id\":\"p1727\",\"attributes\":{\"mantissas\":[1,2,5]}},\"formatter\":{\"type\":\"object\",\"name\":\"BasicTickFormatter\",\"id\":\"p1728\"},\"major_label_policy\":{\"type\":\"object\",\"name\":\"AllLabels\",\"id\":\"p1729\"}}}],\"center\":[{\"type\":\"object\",\"name\":\"Grid\",\"id\":\"p1730\",\"attributes\":{\"axis\":{\"id\":\"p1726\"}}},{\"type\":\"object\",\"name\":\"Grid\",\"id\":\"p1735\",\"attributes\":{\"dimension\":1,\"axis\":{\"id\":\"p1731\"}}}]}}]}};\n",
       "  const render_items = [{\"docid\":\"8674ec2f-1ec2-4bcd-be66-6e8f6a682166\",\"roots\":{\"p1715\":\"d56d5eb2-4ff7-455f-bae4-15d8fe751786\"},\"root_ids\":[\"p1715\"]}];\n",
       "  root.Bokeh.embed.embed_items_notebook(docs_json, render_items);\n",
       "  }\n",
       "  if (root.Bokeh !== undefined) {\n",
       "    embed_document(root);\n",
       "  } else {\n",
       "    let attempts = 0;\n",
       "    const timer = setInterval(function(root) {\n",
       "      if (root.Bokeh !== undefined) {\n",
       "        clearInterval(timer);\n",
       "        embed_document(root);\n",
       "      } else {\n",
       "        attempts++;\n",
       "        if (attempts > 100) {\n",
       "          clearInterval(timer);\n",
       "          console.log(\"Bokeh: ERROR: Unable to run BokehJS code because BokehJS library is missing\");\n",
       "        }\n",
       "      }\n",
       "    }, 10, root)\n",
       "  }\n",
       "})(window);"
      ],
      "application/vnd.bokehjs_exec.v0+json": ""
     },
     "metadata": {
      "application/vnd.bokehjs_exec.v0+json": {
       "id": "p1715"
      }
     },
     "output_type": "display_data"
    }
   ],
   "source": [
    "import numpy as np\n",
    "from bokeh.transform import linear_cmap\n",
    "\n",
    "# create random values for x, y and radius\n",
    "N = 2000\n",
    "source = dict(\n",
    "    x=np.random.random(size=N) * 100,\n",
    "    y=np.random.random(size=N) * 100,\n",
    "    r=np.random.random(size=N) * 1.5,\n",
    ")\n",
    "\n",
    "p = figure(height=300)\n",
    "\n",
    "p.circle(\n",
    "    x=\"x\",\n",
    "    y=\"y\",\n",
    "    radius=\"r\",\n",
    "    source=source,\n",
    "    fill_alpha=0.6,\n",
    "    color=linear_cmap(\"x\", \"Viridis256\", 20, 80),  # use a color map based on the \"x\" column using the Viridis256 palette\n",
    ")\n",
    "\n",
    "show(p)"
   ]
  },
  {
   "cell_type": "markdown",
   "metadata": {},
   "source": [
    "To learn more about color mapping with transforms, see\n",
    "[Client-side color mapping](https://docs.bokeh.org/en/latest/docs/user_guide/basic/data.html#client-side-color-mapping)\n",
    "in the user guide.\n",
    "\n",
    "Bokeh contains several other transforms. See\n",
    "[Transforming data](https://docs.bokeh.org/en/latest/docs/user_guide/basic/data.html#transforming-data)\n",
    "in the user guide for more examples. The\n",
    "[entry for bokeh.transform](https://docs.bokeh.org/en/latest/docs/reference/transform.html)\n",
    "in the reference guide also contains a list of all available transforms."
   ]
  },
  {
   "cell_type": "markdown",
   "metadata": {},
   "source": [
    "# Next section\n",
    "\n",
    "<a href=\"07_annotations.ipynb\" target=\"_blank\">\n",
    "    <img src=\"assets/arrow.svg\" alt=\"Next section\" width=\"100\" align=\"right\">\n",
    "</a>\n",
    "\n",
    "In the [next chapter](07_annotations.ipynb), you'll learn how to use annotations to\n",
    "provide additional information in your plots."
   ]
  }
 ],
 "metadata": {
  "kernelspec": {
   "display_name": "Python 3 (ipykernel)",
   "language": "python",
   "name": "python3"
  },
  "language_info": {
   "codemirror_mode": {
    "name": "ipython",
    "version": 3
   },
   "file_extension": ".py",
   "mimetype": "text/x-python",
   "name": "python",
   "nbconvert_exporter": "python",
   "pygments_lexer": "ipython3",
   "version": "3.11.2"
  },
  "vscode": {
   "interpreter": {
    "hash": "0494a81e5f69860dcb844ce8e12eb9c88a7e813ddbfb0fbade72137f5ce45437"
   }
  }
 },
 "nbformat": 4,
 "nbformat_minor": 4
}
